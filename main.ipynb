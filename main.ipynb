{
  "nbformat": 4,
  "nbformat_minor": 0,
  "metadata": {
    "colab": {
      "provenance": []
    },
    "kernelspec": {
      "name": "python3",
      "display_name": "Python 3"
    },
    "language_info": {
      "name": "python"
    }
  },
  "cells": [
    {
      "cell_type": "code",
      "execution_count": 213,
      "metadata": {
        "id": "qvpW1HuHBwPz"
      },
      "outputs": [],
      "source": [
        "import numpy as np\n",
        "import pandas as pd \n",
        "import cv2\n",
        "import matplotlib.pyplot as plt\n",
        "import tensorflow as tf\n",
        "from tensorflow.keras.utils import load_img, to_categorical\n",
        "from tensorflow.keras.models import Sequential\n",
        "from tensorflow.keras.layers import Dense, Flatten, Dropout, Activation, Conv2D, MaxPooling2D, BatchNormalization\n",
        "from keras.callbacks import ReduceLROnPlateau\n",
        "import os\n",
        "import random\n",
        "import zipfile\n",
        "from sklearn import metrics\n",
        "import seaborn as sns\n",
        "\n",
        "from keras.preprocessing.image import ImageDataGenerator\n",
        "from sklearn.model_selection import train_test_split\n",
        "\n",
        "from google.colab import drive\n",
        "from google.colab import files"
      ]
    },
    {
      "cell_type": "markdown",
      "source": [
        "Exploratory Data Analysis and Preprocessing"
      ],
      "metadata": {
        "id": "mJ-Hh2QxFk0W"
      }
    },
    {
      "cell_type": "code",
      "source": [
        "drive.mount('/content/drive')\n",
        "!ls \"/content/drive/My Drive/Mis apuntes/Nuwe/Zero deforestation mission\""
      ],
      "metadata": {
        "colab": {
          "base_uri": "https://localhost:8080/"
        },
        "id": "ikCTU4ybB8Q9",
        "outputId": "efbec7fd-7ba2-4080-c60e-a1677b59dda3"
      },
      "execution_count": 164,
      "outputs": [
        {
          "output_type": "stream",
          "name": "stdout",
          "text": [
            "Drive already mounted at /content/drive; to attempt to forcibly remount, call drive.mount(\"/content/drive\", force_remount=True).\n",
            "main.ipynb  test.csv  train.csv  train_test_data  train_test_data.zip\n"
          ]
        }
      ]
    },
    {
      "cell_type": "code",
      "source": [
        "print(os.listdir(\"../content/drive/My Drive/Mis apuntes/Nuwe/Zero deforestation mission\"))"
      ],
      "metadata": {
        "colab": {
          "base_uri": "https://localhost:8080/"
        },
        "id": "HBfTFhJWCCt6",
        "outputId": "df25f38c-d93c-46e2-fca2-575a0637cb2e"
      },
      "execution_count": 165,
      "outputs": [
        {
          "output_type": "stream",
          "name": "stdout",
          "text": [
            "['train.csv', 'test.csv', 'train_test_data.zip', 'main.ipynb', 'train_test_data']\n"
          ]
        }
      ]
    },
    {
      "cell_type": "code",
      "source": [
        "with zipfile.ZipFile(\"../content/drive/My Drive/Mis apuntes/Nuwe/Zero deforestation mission/train_test_data.zip\",\"r\") as z:\n",
        "    z.extractall(\".\")"
      ],
      "metadata": {
        "id": "b7HvVptQCK5q",
        "colab": {
          "base_uri": "https://localhost:8080/",
          "height": 433
        },
        "outputId": "cec329c9-8432-4a86-e141-089e4d5195e2"
      },
      "execution_count": 166,
      "outputs": [
        {
          "output_type": "error",
          "ename": "KeyboardInterrupt",
          "evalue": "ignored",
          "traceback": [
            "\u001b[0;31m---------------------------------------------------------------------------\u001b[0m",
            "\u001b[0;31mKeyboardInterrupt\u001b[0m                         Traceback (most recent call last)",
            "\u001b[0;32m/usr/lib/python3.7/encodings/cp437.py\u001b[0m in \u001b[0;36mdecode\u001b[0;34m(self, input, errors)\u001b[0m\n\u001b[1;32m     13\u001b[0m \u001b[0;34m\u001b[0m\u001b[0m\n\u001b[0;32m---> 14\u001b[0;31m     \u001b[0;32mdef\u001b[0m \u001b[0mdecode\u001b[0m\u001b[0;34m(\u001b[0m\u001b[0mself\u001b[0m\u001b[0;34m,\u001b[0m\u001b[0minput\u001b[0m\u001b[0;34m,\u001b[0m\u001b[0merrors\u001b[0m\u001b[0;34m=\u001b[0m\u001b[0;34m'strict'\u001b[0m\u001b[0;34m)\u001b[0m\u001b[0;34m:\u001b[0m\u001b[0;34m\u001b[0m\u001b[0;34m\u001b[0m\u001b[0m\n\u001b[0m\u001b[1;32m     15\u001b[0m         \u001b[0;32mreturn\u001b[0m \u001b[0mcodecs\u001b[0m\u001b[0;34m.\u001b[0m\u001b[0mcharmap_decode\u001b[0m\u001b[0;34m(\u001b[0m\u001b[0minput\u001b[0m\u001b[0;34m,\u001b[0m\u001b[0merrors\u001b[0m\u001b[0;34m,\u001b[0m\u001b[0mdecoding_table\u001b[0m\u001b[0;34m)\u001b[0m\u001b[0;34m\u001b[0m\u001b[0;34m\u001b[0m\u001b[0m\n",
            "\u001b[0;31mKeyboardInterrupt\u001b[0m: ",
            "\nThe above exception was the direct cause of the following exception:\n",
            "\u001b[0;31mKeyboardInterrupt\u001b[0m                         Traceback (most recent call last)",
            "\u001b[0;32m<ipython-input-166-14a0bfd1c93a>\u001b[0m in \u001b[0;36m<module>\u001b[0;34m\u001b[0m\n\u001b[0;32m----> 1\u001b[0;31m \u001b[0;32mwith\u001b[0m \u001b[0mzipfile\u001b[0m\u001b[0;34m.\u001b[0m\u001b[0mZipFile\u001b[0m\u001b[0;34m(\u001b[0m\u001b[0;34m\"../content/drive/My Drive/Mis apuntes/Nuwe/Zero deforestation mission/train_test_data.zip\"\u001b[0m\u001b[0;34m,\u001b[0m\u001b[0;34m\"r\"\u001b[0m\u001b[0;34m)\u001b[0m \u001b[0;32mas\u001b[0m \u001b[0mz\u001b[0m\u001b[0;34m:\u001b[0m\u001b[0;34m\u001b[0m\u001b[0;34m\u001b[0m\u001b[0m\n\u001b[0m\u001b[1;32m      2\u001b[0m     \u001b[0mz\u001b[0m\u001b[0;34m.\u001b[0m\u001b[0mextractall\u001b[0m\u001b[0;34m(\u001b[0m\u001b[0;34m\".\"\u001b[0m\u001b[0;34m)\u001b[0m\u001b[0;34m\u001b[0m\u001b[0;34m\u001b[0m\u001b[0m\n",
            "\u001b[0;32m/usr/lib/python3.7/zipfile.py\u001b[0m in \u001b[0;36m__init__\u001b[0;34m(self, file, mode, compression, allowZip64, compresslevel)\u001b[0m\n\u001b[1;32m   1256\u001b[0m         \u001b[0;32mtry\u001b[0m\u001b[0;34m:\u001b[0m\u001b[0;34m\u001b[0m\u001b[0;34m\u001b[0m\u001b[0m\n\u001b[1;32m   1257\u001b[0m             \u001b[0;32mif\u001b[0m \u001b[0mmode\u001b[0m \u001b[0;34m==\u001b[0m \u001b[0;34m'r'\u001b[0m\u001b[0;34m:\u001b[0m\u001b[0;34m\u001b[0m\u001b[0;34m\u001b[0m\u001b[0m\n\u001b[0;32m-> 1258\u001b[0;31m                 \u001b[0mself\u001b[0m\u001b[0;34m.\u001b[0m\u001b[0m_RealGetContents\u001b[0m\u001b[0;34m(\u001b[0m\u001b[0;34m)\u001b[0m\u001b[0;34m\u001b[0m\u001b[0;34m\u001b[0m\u001b[0m\n\u001b[0m\u001b[1;32m   1259\u001b[0m             \u001b[0;32melif\u001b[0m \u001b[0mmode\u001b[0m \u001b[0;32min\u001b[0m \u001b[0;34m(\u001b[0m\u001b[0;34m'w'\u001b[0m\u001b[0;34m,\u001b[0m \u001b[0;34m'x'\u001b[0m\u001b[0;34m)\u001b[0m\u001b[0;34m:\u001b[0m\u001b[0;34m\u001b[0m\u001b[0;34m\u001b[0m\u001b[0m\n\u001b[1;32m   1260\u001b[0m                 \u001b[0;31m# set the modified flag so central directory gets written\u001b[0m\u001b[0;34m\u001b[0m\u001b[0;34m\u001b[0m\u001b[0;34m\u001b[0m\u001b[0m\n",
            "\u001b[0;32m/usr/lib/python3.7/zipfile.py\u001b[0m in \u001b[0;36m_RealGetContents\u001b[0;34m(self)\u001b[0m\n\u001b[1;32m   1361\u001b[0m             \u001b[0;32melse\u001b[0m\u001b[0;34m:\u001b[0m\u001b[0;34m\u001b[0m\u001b[0;34m\u001b[0m\u001b[0m\n\u001b[1;32m   1362\u001b[0m                 \u001b[0;31m# Historical ZIP filename encoding\u001b[0m\u001b[0;34m\u001b[0m\u001b[0;34m\u001b[0m\u001b[0;34m\u001b[0m\u001b[0m\n\u001b[0;32m-> 1363\u001b[0;31m                 \u001b[0mfilename\u001b[0m \u001b[0;34m=\u001b[0m \u001b[0mfilename\u001b[0m\u001b[0;34m.\u001b[0m\u001b[0mdecode\u001b[0m\u001b[0;34m(\u001b[0m\u001b[0;34m'cp437'\u001b[0m\u001b[0;34m)\u001b[0m\u001b[0;34m\u001b[0m\u001b[0;34m\u001b[0m\u001b[0m\n\u001b[0m\u001b[1;32m   1364\u001b[0m             \u001b[0;31m# Create ZipInfo instance to store file information\u001b[0m\u001b[0;34m\u001b[0m\u001b[0;34m\u001b[0m\u001b[0;34m\u001b[0m\u001b[0m\n\u001b[1;32m   1365\u001b[0m             \u001b[0mx\u001b[0m \u001b[0;34m=\u001b[0m \u001b[0mZipInfo\u001b[0m\u001b[0;34m(\u001b[0m\u001b[0mfilename\u001b[0m\u001b[0;34m)\u001b[0m\u001b[0;34m\u001b[0m\u001b[0;34m\u001b[0m\u001b[0m\n",
            "\u001b[0;31mKeyboardInterrupt\u001b[0m: decoding with 'cp437' codec failed (KeyboardInterrupt: )"
          ]
        }
      ]
    },
    {
      "cell_type": "code",
      "source": [
        "!unzip \"../content/drive/My Drive/Mis apuntes/Nuwe/Zero deforestation mission/train_test_data.zip\""
      ],
      "metadata": {
        "id": "GGcY6ggHCaoJ"
      },
      "execution_count": null,
      "outputs": []
    },
    {
      "cell_type": "code",
      "source": [
        "main_dir = \"../content/drive/My Drive/Mis apuntes/Nuwe/Zero deforestation mission/train_test_data\"\n",
        "train_dir = \"train\"\n",
        "test_dir = \"test\"\n",
        "datagen_path = \"/content/drive/My Drive/Mis apuntes/Nuwe/Zero deforestation mission/\"\n",
        "path = os.path.join(main_dir, train_dir)\n",
        "\n",
        "for p in os.listdir(path):\n",
        "    category = p.split(\".\")[0]\n",
        "    img_array = cv2.imread(os.path.join(path,p),cv2.IMREAD_GRAYSCALE)\n",
        "    new_img_array = cv2.resize(img_array, dsize=(80, 80))\n",
        "    plt.imshow(new_img_array,cmap=\"gray\")\n",
        "    break"
      ],
      "metadata": {
        "colab": {
          "base_uri": "https://localhost:8080/",
          "height": 268
        },
        "id": "MYFyUft0EEKd",
        "outputId": "9e667476-7933-449a-e29b-69057546789a"
      },
      "execution_count": 167,
      "outputs": [
        {
          "output_type": "display_data",
          "data": {
            "text/plain": [
              "<Figure size 432x288 with 1 Axes>"
            ],
            "image/png": "[encoded data removed]"
          },
          "metadata": {
            "needs_background": "light"
          }
        }
      ]
    },
    {
      "cell_type": "code",
      "source": [
        "df = pd.read_csv(\"/content/drive/My Drive/Mis apuntes/Nuwe/Zero deforestation mission/train.csv\")\n",
        "df.tail()"
      ],
      "metadata": {
        "colab": {
          "base_uri": "https://localhost:8080/",
          "height": 206
        },
        "id": "pw1WMkybJ-Pc",
        "outputId": "e47bee0a-a9f3-4148-ad76-1775594fe21c"
      },
      "execution_count": 168,
      "outputs": [
        {
          "output_type": "execute_result",
          "data": {
            "text/plain": [
              "      label  latitude   longitude  year                    example_path\n",
              "1709      0  3.819464  117.636112  2016   train_test_data/train/550.png\n",
              "1710      0 -1.809594  111.531951  2005  train_test_data/train/2264.png\n",
              "1711      1  0.443397  112.200163  2012  train_test_data/train/1486.png\n",
              "1712      2 -1.978349  101.970148  2012  train_test_data/train/1170.png\n",
              "1713      2  0.780981  123.368557  2013   train_test_data/train/273.png"
            ],
            "text/html": [
              "\n",
              "  <div id=\"df-d194a28a-759b-46fd-a51b-39c99d3cf1de\">\n",
              "    <div class=\"colab-df-container\">\n",
              "      <div>\n",
              "<style scoped>\n",
              "    .dataframe tbody tr th:only-of-type {\n",
              "        vertical-align: middle;\n",
              "    }\n",
              "\n",
              "    .dataframe tbody tr th {\n",
              "        vertical-align: top;\n",
              "    }\n",
              "\n",
              "    .dataframe thead th {\n",
              "        text-align: right;\n",
              "    }\n",
              "</style>\n",
              "<table border=\"1\" class=\"dataframe\">\n",
              "  <thead>\n",
              "    <tr style=\"text-align: right;\">\n",
              "      <th></th>\n",
              "      <th>label</th>\n",
              "      <th>latitude</th>\n",
              "      <th>longitude</th>\n",
              "      <th>year</th>\n",
              "      <th>example_path</th>\n",
              "    </tr>\n",
              "  </thead>\n",
              "  <tbody>\n",
              "    <tr>\n",
              "      <th>1709</th>\n",
              "      <td>0</td>\n",
              "      <td>3.819464</td>\n",
              "      <td>117.636112</td>\n",
              "      <td>2016</td>\n",
              "      <td>train_test_data/train/550.png</td>\n",
              "    </tr>\n",
              "    <tr>\n",
              "      <th>1710</th>\n",
              "      <td>0</td>\n",
              "      <td>-1.809594</td>\n",
              "      <td>111.531951</td>\n",
              "      <td>2005</td>\n",
              "      <td>train_test_data/train/2264.png</td>\n",
              "    </tr>\n",
              "    <tr>\n",
              "      <th>1711</th>\n",
              "      <td>1</td>\n",
              "      <td>0.443397</td>\n",
              "      <td>112.200163</td>\n",
              "      <td>2012</td>\n",
              "      <td>train_test_data/train/1486.png</td>\n",
              "    </tr>\n",
              "    <tr>\n",
              "      <th>1712</th>\n",
              "      <td>2</td>\n",
              "      <td>-1.978349</td>\n",
              "      <td>101.970148</td>\n",
              "      <td>2012</td>\n",
              "      <td>train_test_data/train/1170.png</td>\n",
              "    </tr>\n",
              "    <tr>\n",
              "      <th>1713</th>\n",
              "      <td>2</td>\n",
              "      <td>0.780981</td>\n",
              "      <td>123.368557</td>\n",
              "      <td>2013</td>\n",
              "      <td>train_test_data/train/273.png</td>\n",
              "    </tr>\n",
              "  </tbody>\n",
              "</table>\n",
              "</div>\n",
              "      <button class=\"colab-df-convert\" onclick=\"convertToInteractive('df-d194a28a-759b-46fd-a51b-39c99d3cf1de')\"\n",
              "              title=\"Convert this dataframe to an interactive table.\"\n",
              "              style=\"display:none;\">\n",
              "        \n",
              "  <svg xmlns=\"http://www.w3.org/2000/svg\" height=\"24px\"viewBox=\"0 0 24 24\"\n",
              "       width=\"24px\">\n",
              "    <path d=\"M0 0h24v24H0V0z\" fill=\"none\"/>\n",
              "    <path d=\"M18.56 5.44l.94 2.06.94-2.06 2.06-.94-2.06-.94-.94-2.06-.94 2.06-2.06.94zm-11 1L8.5 8.5l.94-2.06 2.06-.94-2.06-.94L8.5 2.5l-.94 2.06-2.06.94zm10 10l.94 2.06.94-2.06 2.06-.94-2.06-.94-.94-2.06-.94 2.06-2.06.94z\"/><path d=\"M17.41 7.96l-1.37-1.37c-.4-.4-.92-.59-1.43-.59-.52 0-1.04.2-1.43.59L10.3 9.45l-7.72 7.72c-.78.78-.78 2.05 0 2.83L4 21.41c.39.39.9.59 1.41.59.51 0 1.02-.2 1.41-.59l7.78-7.78 2.81-2.81c.8-.78.8-2.07 0-2.86zM5.41 20L4 18.59l7.72-7.72 1.47 1.35L5.41 20z\"/>\n",
              "  </svg>\n",
              "      </button>\n",
              "      \n",
              "  <style>\n",
              "    .colab-df-container {\n",
              "      display:flex;\n",
              "      flex-wrap:wrap;\n",
              "      gap: 12px;\n",
              "    }\n",
              "\n",
              "    .colab-df-convert {\n",
              "      background-color: #E8F0FE;\n",
              "      border: none;\n",
              "      border-radius: 50%;\n",
              "      cursor: pointer;\n",
              "      display: none;\n",
              "      fill: #1967D2;\n",
              "      height: 32px;\n",
              "      padding: 0 0 0 0;\n",
              "      width: 32px;\n",
              "    }\n",
              "\n",
              "    .colab-df-convert:hover {\n",
              "      background-color: #E2EBFA;\n",
              "      box-shadow: 0px 1px 2px rgba(60, 64, 67, 0.3), 0px 1px 3px 1px rgba(60, 64, 67, 0.15);\n",
              "      fill: #174EA6;\n",
              "    }\n",
              "\n",
              "    [theme=dark] .colab-df-convert {\n",
              "      background-color: #3B4455;\n",
              "      fill: #D2E3FC;\n",
              "    }\n",
              "\n",
              "    [theme=dark] .colab-df-convert:hover {\n",
              "      background-color: #434B5C;\n",
              "      box-shadow: 0px 1px 3px 1px rgba(0, 0, 0, 0.15);\n",
              "      filter: drop-shadow(0px 1px 2px rgba(0, 0, 0, 0.3));\n",
              "      fill: #FFFFFF;\n",
              "    }\n",
              "  </style>\n",
              "\n",
              "      <script>\n",
              "        const buttonEl =\n",
              "          document.querySelector('#df-d194a28a-759b-46fd-a51b-39c99d3cf1de button.colab-df-convert');\n",
              "        buttonEl.style.display =\n",
              "          google.colab.kernel.accessAllowed ? 'block' : 'none';\n",
              "\n",
              "        async function convertToInteractive(key) {\n",
              "          const element = document.querySelector('#df-d194a28a-759b-46fd-a51b-39c99d3cf1de');\n",
              "          const dataTable =\n",
              "            await google.colab.kernel.invokeFunction('convertToInteractive',\n",
              "                                                     [key], {});\n",
              "          if (!dataTable) return;\n",
              "\n",
              "          const docLinkHtml = 'Like what you see? Visit the ' +\n",
              "            '<a target=\"_blank\" href=https://colab.research.google.com/notebooks/data_table.ipynb>data table notebook</a>'\n",
              "            + ' to learn more about interactive tables.';\n",
              "          element.innerHTML = '';\n",
              "          dataTable['output_type'] = 'display_data';\n",
              "          await google.colab.output.renderOutput(dataTable, element);\n",
              "          const docLink = document.createElement('div');\n",
              "          docLink.innerHTML = docLinkHtml;\n",
              "          element.appendChild(docLink);\n",
              "        }\n",
              "      </script>\n",
              "    </div>\n",
              "  </div>\n",
              "  "
            ]
          },
          "metadata": {},
          "execution_count": 168
        }
      ]
    },
    {
      "cell_type": "code",
      "source": [
        "test = pd.read_csv(\"/content/drive/My Drive/Mis apuntes/Nuwe/Zero deforestation mission/test.csv\")\n",
        "test.head()"
      ],
      "metadata": {
        "colab": {
          "base_uri": "https://localhost:8080/",
          "height": 206
        },
        "id": "LRbtMJtGKmEi",
        "outputId": "3ff2fdf7-2658-4830-83a9-77fc3f816b2c"
      },
      "execution_count": 169,
      "outputs": [
        {
          "output_type": "execute_result",
          "data": {
            "text/plain": [
              "   latitude   longitude  year                   example_path\n",
              "0  0.761681  122.755954  2006    train_test_data/test/69.png\n",
              "1 -8.059785  113.053791  2007   train_test_data/test/469.png\n",
              "2 -2.006610  111.746316  2002     train_test_data/test/6.png\n",
              "3  0.901765  114.042495  2016   train_test_data/test/351.png\n",
              "4  1.911210  100.829633  2008  train_test_data/test/1001.png"
            ],
            "text/html": [
              "\n",
              "  <div id=\"df-ae2ce435-e9cc-4349-804a-bc27babead5d\">\n",
              "    <div class=\"colab-df-container\">\n",
              "      <div>\n",
              "<style scoped>\n",
              "    .dataframe tbody tr th:only-of-type {\n",
              "        vertical-align: middle;\n",
              "    }\n",
              "\n",
              "    .dataframe tbody tr th {\n",
              "        vertical-align: top;\n",
              "    }\n",
              "\n",
              "    .dataframe thead th {\n",
              "        text-align: right;\n",
              "    }\n",
              "</style>\n",
              "<table border=\"1\" class=\"dataframe\">\n",
              "  <thead>\n",
              "    <tr style=\"text-align: right;\">\n",
              "      <th></th>\n",
              "      <th>latitude</th>\n",
              "      <th>longitude</th>\n",
              "      <th>year</th>\n",
              "      <th>example_path</th>\n",
              "    </tr>\n",
              "  </thead>\n",
              "  <tbody>\n",
              "    <tr>\n",
              "      <th>0</th>\n",
              "      <td>0.761681</td>\n",
              "      <td>122.755954</td>\n",
              "      <td>2006</td>\n",
              "      <td>train_test_data/test/69.png</td>\n",
              "    </tr>\n",
              "    <tr>\n",
              "      <th>1</th>\n",
              "      <td>-8.059785</td>\n",
              "      <td>113.053791</td>\n",
              "      <td>2007</td>\n",
              "      <td>train_test_data/test/469.png</td>\n",
              "    </tr>\n",
              "    <tr>\n",
              "      <th>2</th>\n",
              "      <td>-2.006610</td>\n",
              "      <td>111.746316</td>\n",
              "      <td>2002</td>\n",
              "      <td>train_test_data/test/6.png</td>\n",
              "    </tr>\n",
              "    <tr>\n",
              "      <th>3</th>\n",
              "      <td>0.901765</td>\n",
              "      <td>114.042495</td>\n",
              "      <td>2016</td>\n",
              "      <td>train_test_data/test/351.png</td>\n",
              "    </tr>\n",
              "    <tr>\n",
              "      <th>4</th>\n",
              "      <td>1.911210</td>\n",
              "      <td>100.829633</td>\n",
              "      <td>2008</td>\n",
              "      <td>train_test_data/test/1001.png</td>\n",
              "    </tr>\n",
              "  </tbody>\n",
              "</table>\n",
              "</div>\n",
              "      <button class=\"colab-df-convert\" onclick=\"convertToInteractive('df-ae2ce435-e9cc-4349-804a-bc27babead5d')\"\n",
              "              title=\"Convert this dataframe to an interactive table.\"\n",
              "              style=\"display:none;\">\n",
              "        \n",
              "  <svg xmlns=\"http://www.w3.org/2000/svg\" height=\"24px\"viewBox=\"0 0 24 24\"\n",
              "       width=\"24px\">\n",
              "    <path d=\"M0 0h24v24H0V0z\" fill=\"none\"/>\n",
              "    <path d=\"M18.56 5.44l.94 2.06.94-2.06 2.06-.94-2.06-.94-.94-2.06-.94 2.06-2.06.94zm-11 1L8.5 8.5l.94-2.06 2.06-.94-2.06-.94L8.5 2.5l-.94 2.06-2.06.94zm10 10l.94 2.06.94-2.06 2.06-.94-2.06-.94-.94-2.06-.94 2.06-2.06.94z\"/><path d=\"M17.41 7.96l-1.37-1.37c-.4-.4-.92-.59-1.43-.59-.52 0-1.04.2-1.43.59L10.3 9.45l-7.72 7.72c-.78.78-.78 2.05 0 2.83L4 21.41c.39.39.9.59 1.41.59.51 0 1.02-.2 1.41-.59l7.78-7.78 2.81-2.81c.8-.78.8-2.07 0-2.86zM5.41 20L4 18.59l7.72-7.72 1.47 1.35L5.41 20z\"/>\n",
              "  </svg>\n",
              "      </button>\n",
              "      \n",
              "  <style>\n",
              "    .colab-df-container {\n",
              "      display:flex;\n",
              "      flex-wrap:wrap;\n",
              "      gap: 12px;\n",
              "    }\n",
              "\n",
              "    .colab-df-convert {\n",
              "      background-color: #E8F0FE;\n",
              "      border: none;\n",
              "      border-radius: 50%;\n",
              "      cursor: pointer;\n",
              "      display: none;\n",
              "      fill: #1967D2;\n",
              "      height: 32px;\n",
              "      padding: 0 0 0 0;\n",
              "      width: 32px;\n",
              "    }\n",
              "\n",
              "    .colab-df-convert:hover {\n",
              "      background-color: #E2EBFA;\n",
              "      box-shadow: 0px 1px 2px rgba(60, 64, 67, 0.3), 0px 1px 3px 1px rgba(60, 64, 67, 0.15);\n",
              "      fill: #174EA6;\n",
              "    }\n",
              "\n",
              "    [theme=dark] .colab-df-convert {\n",
              "      background-color: #3B4455;\n",
              "      fill: #D2E3FC;\n",
              "    }\n",
              "\n",
              "    [theme=dark] .colab-df-convert:hover {\n",
              "      background-color: #434B5C;\n",
              "      box-shadow: 0px 1px 3px 1px rgba(0, 0, 0, 0.15);\n",
              "      filter: drop-shadow(0px 1px 2px rgba(0, 0, 0, 0.3));\n",
              "      fill: #FFFFFF;\n",
              "    }\n",
              "  </style>\n",
              "\n",
              "      <script>\n",
              "        const buttonEl =\n",
              "          document.querySelector('#df-ae2ce435-e9cc-4349-804a-bc27babead5d button.colab-df-convert');\n",
              "        buttonEl.style.display =\n",
              "          google.colab.kernel.accessAllowed ? 'block' : 'none';\n",
              "\n",
              "        async function convertToInteractive(key) {\n",
              "          const element = document.querySelector('#df-ae2ce435-e9cc-4349-804a-bc27babead5d');\n",
              "          const dataTable =\n",
              "            await google.colab.kernel.invokeFunction('convertToInteractive',\n",
              "                                                     [key], {});\n",
              "          if (!dataTable) return;\n",
              "\n",
              "          const docLinkHtml = 'Like what you see? Visit the ' +\n",
              "            '<a target=\"_blank\" href=https://colab.research.google.com/notebooks/data_table.ipynb>data table notebook</a>'\n",
              "            + ' to learn more about interactive tables.';\n",
              "          element.innerHTML = '';\n",
              "          dataTable['output_type'] = 'display_data';\n",
              "          await google.colab.output.renderOutput(dataTable, element);\n",
              "          const docLink = document.createElement('div');\n",
              "          docLink.innerHTML = docLinkHtml;\n",
              "          element.appendChild(docLink);\n",
              "        }\n",
              "      </script>\n",
              "    </div>\n",
              "  </div>\n",
              "  "
            ]
          },
          "metadata": {},
          "execution_count": 169
        }
      ]
    },
    {
      "cell_type": "code",
      "source": [
        "df.info()"
      ],
      "metadata": {
        "colab": {
          "base_uri": "https://localhost:8080/"
        },
        "id": "EMD2Qk3IEEFW",
        "outputId": "3cf7141b-6842-482b-8cda-7fbef38b6c62"
      },
      "execution_count": 195,
      "outputs": [
        {
          "output_type": "stream",
          "name": "stdout",
          "text": [
            "<class 'pandas.core.frame.DataFrame'>\n",
            "RangeIndex: 1714 entries, 0 to 1713\n",
            "Data columns (total 5 columns):\n",
            " #   Column        Non-Null Count  Dtype  \n",
            "---  ------        --------------  -----  \n",
            " 0   label         1714 non-null   object \n",
            " 1   latitude      1714 non-null   float64\n",
            " 2   longitude     1714 non-null   float64\n",
            " 3   year          1714 non-null   int64  \n",
            " 4   example_path  1714 non-null   object \n",
            "dtypes: float64(2), int64(1), object(2)\n",
            "memory usage: 67.1+ KB\n"
          ]
        }
      ]
    },
    {
      "cell_type": "code",
      "source": [
        "df[\"label\"] = df[\"label\"].astype(\"str\")"
      ],
      "metadata": {
        "id": "yqO9kL_yEECM"
      },
      "execution_count": 196,
      "outputs": []
    },
    {
      "cell_type": "code",
      "source": [
        "df[\"label\"].value_counts().plot.bar()"
      ],
      "metadata": {
        "colab": {
          "base_uri": "https://localhost:8080/",
          "height": 279
        },
        "id": "D4-nMyJfED_O",
        "outputId": "5d405788-b1bf-4c13-8b2d-649a7cd24d07"
      },
      "execution_count": 197,
      "outputs": [
        {
          "output_type": "execute_result",
          "data": {
            "text/plain": [
              "<matplotlib.axes._subplots.AxesSubplot at 0x7feefad6ff10>"
            ]
          },
          "metadata": {},
          "execution_count": 197
        },
        {
          "output_type": "display_data",
          "data": {
            "text/plain": [
              "<Figure size 432x288 with 1 Axes>"
            ],
            "image/png": "[encoded data removed]"
          },
          "metadata": {
            "needs_background": "light"
          }
        }
      ]
    },
    {
      "cell_type": "code",
      "source": [
        "filenames = os.listdir(path)\n",
        "sample = random.choice(filenames)\n",
        "image = load_img(path+\"/\"+sample)\n",
        "plt.imshow(image)"
      ],
      "metadata": {
        "colab": {
          "base_uri": "https://localhost:8080/",
          "height": 286
        },
        "id": "A6WMaOwZFksO",
        "outputId": "d51c9751-917b-4da0-d7a0-5d9c7a28aae7"
      },
      "execution_count": 198,
      "outputs": [
        {
          "output_type": "execute_result",
          "data": {
            "text/plain": [
              "<matplotlib.image.AxesImage at 0x7feef90b3290>"
            ]
          },
          "metadata": {},
          "execution_count": 198
        },
        {
          "output_type": "display_data",
          "data": {
            "text/plain": [
              "<Figure size 432x288 with 1 Axes>"
            ],
            "image/png": "[encoded data removed]"
          },
          "metadata": {
            "needs_background": "light"
          }
        }
      ]
    },
    {
      "cell_type": "code",
      "source": [
        "train_df, validate_df = train_test_split(df, test_size=0.1)\n",
        "train_df = train_df.reset_index()\n",
        "validate_df = validate_df.reset_index()\n",
        "test_df = test\n",
        "\n",
        "total_train = train_df.shape[0]\n",
        "total_validate = validate_df.shape[0]"
      ],
      "metadata": {
        "id": "60elQDMyFmLM"
      },
      "execution_count": 199,
      "outputs": []
    },
    {
      "cell_type": "code",
      "source": [
        "image_size = 300\n",
        "input_shape = (image_size, image_size, 3)\n",
        "epochs = 30\n",
        "batch_size = 16\n",
        "FAST_RUN = False"
      ],
      "metadata": {
        "id": "WcFeWKn4MTjq"
      },
      "execution_count": 200,
      "outputs": []
    },
    {
      "cell_type": "code",
      "source": [
        "train_datagen = ImageDataGenerator(\n",
        "    rotation_range=5,\n",
        "    rescale=1./255,\n",
        "    shear_range=0.01,\n",
        "    zoom_range=0.01,\n",
        "    horizontal_flip=True,\n",
        "    # fill_mode=\"nearest\",\n",
        "    width_shift_range=0.01,\n",
        "    height_shift_range=0.01\n",
        ")\n",
        "\n",
        "train_generator = train_datagen.flow_from_dataframe(\n",
        "    train_df, \n",
        "    datagen_path, \n",
        "    x_col=\"example_path\",\n",
        "    y_col=\"label\",\n",
        "    class_mode=\"sparse\",\n",
        "    target_size=(image_size, image_size),\n",
        "    batch_size=batch_size\n",
        ")\n",
        "\n",
        "validation_datagen = ImageDataGenerator(rescale=1./255)\n",
        "validation_generator = validation_datagen.flow_from_dataframe(\n",
        "    validate_df, \n",
        "    datagen_path, \n",
        "    x_col=\"example_path\",\n",
        "    y_col=\"label\",\n",
        "    class_mode=\"sparse\",\n",
        "    target_size=(image_size, image_size),\n",
        "    batch_size=batch_size\n",
        ")\n",
        "\n",
        "test_datagen = ImageDataGenerator(rescale = 1./255.)\n",
        "test_generator = test_datagen.flow_from_dataframe(\n",
        "        test_df,\n",
        "        datagen_path, \n",
        "        x_col=\"example_path\",\n",
        "        target_size=(image_size, image_size),\n",
        "        shuffle=False,\n",
        "        class_mode=None,\n",
        "        batch_size=batch_size\n",
        ")"
      ],
      "metadata": {
        "colab": {
          "base_uri": "https://localhost:8080/"
        },
        "id": "ezizvnAmFmId",
        "outputId": "1b89e954-d37e-451b-a950-7d5369a99178"
      },
      "execution_count": 201,
      "outputs": [
        {
          "output_type": "stream",
          "name": "stdout",
          "text": [
            "Found 1542 validated image filenames belonging to 3 classes.\n",
            "Found 172 validated image filenames belonging to 3 classes.\n",
            "Found 635 validated image filenames.\n"
          ]
        }
      ]
    },
    {
      "cell_type": "markdown",
      "source": [
        "Model Building"
      ],
      "metadata": {
        "id": "DEZoDotpFgaQ"
      }
    },
    {
      "cell_type": "code",
      "source": [
        "model = Sequential()\n",
        "\n",
        "model.add(Conv2D(32, (3, 3), activation=\"relu\", input_shape=(input_shape)))\n",
        "model.add(BatchNormalization())\n",
        "model.add(MaxPooling2D(pool_size=(2, 2)))\n",
        "model.add(Dropout(0.25))\n",
        "\n",
        "model.add(Conv2D(64, (3, 3), activation=\"relu\"))\n",
        "model.add(BatchNormalization())\n",
        "model.add(MaxPooling2D(pool_size=(2, 2)))\n",
        "model.add(Dropout(0.25))\n",
        "\n",
        "model.add(Conv2D(128, (3, 3), activation=\"relu\"))\n",
        "model.add(BatchNormalization())\n",
        "model.add(MaxPooling2D(pool_size=(2, 2)))\n",
        "model.add(Dropout(0.25))\n",
        "\n",
        "model.add(Flatten())\n",
        "model.add(Dense(512, activation=\"relu\"))\n",
        "model.add(BatchNormalization())\n",
        "model.add(Dropout(0.5))\n",
        "model.add(Dense(3, activation=\"softmax\")) \n",
        "\n",
        "model.compile(loss=\"sparse_categorical_crossentropy\", optimizer=\"adam\", metrics=[\"accuracy\"])\n",
        "\n",
        "model.summary()"
      ],
      "metadata": {
        "colab": {
          "base_uri": "https://localhost:8080/"
        },
        "id": "RBd4DPAHGOV_",
        "outputId": "60f2c946-dd14-4a0c-f731-cc9458b8adfb"
      },
      "execution_count": 202,
      "outputs": [
        {
          "output_type": "stream",
          "name": "stdout",
          "text": [
            "Model: \"sequential_12\"\n",
            "_________________________________________________________________\n",
            " Layer (type)                Output Shape              Param #   \n",
            "=================================================================\n",
            " conv2d_32 (Conv2D)          (None, 298, 298, 32)      896       \n",
            "                                                                 \n",
            " batch_normalization_40 (Bat  (None, 298, 298, 32)     128       \n",
            " chNormalization)                                                \n",
            "                                                                 \n",
            " max_pooling2d_30 (MaxPoolin  (None, 149, 149, 32)     0         \n",
            " g2D)                                                            \n",
            "                                                                 \n",
            " dropout_40 (Dropout)        (None, 149, 149, 32)      0         \n",
            "                                                                 \n",
            " conv2d_33 (Conv2D)          (None, 147, 147, 64)      18496     \n",
            "                                                                 \n",
            " batch_normalization_41 (Bat  (None, 147, 147, 64)     256       \n",
            " chNormalization)                                                \n",
            "                                                                 \n",
            " max_pooling2d_31 (MaxPoolin  (None, 73, 73, 64)       0         \n",
            " g2D)                                                            \n",
            "                                                                 \n",
            " dropout_41 (Dropout)        (None, 73, 73, 64)        0         \n",
            "                                                                 \n",
            " conv2d_34 (Conv2D)          (None, 71, 71, 128)       73856     \n",
            "                                                                 \n",
            " batch_normalization_42 (Bat  (None, 71, 71, 128)      512       \n",
            " chNormalization)                                                \n",
            "                                                                 \n",
            " max_pooling2d_32 (MaxPoolin  (None, 35, 35, 128)      0         \n",
            " g2D)                                                            \n",
            "                                                                 \n",
            " dropout_42 (Dropout)        (None, 35, 35, 128)       0         \n",
            "                                                                 \n",
            " flatten_10 (Flatten)        (None, 156800)            0         \n",
            "                                                                 \n",
            " dense_20 (Dense)            (None, 512)               80282112  \n",
            "                                                                 \n",
            " batch_normalization_43 (Bat  (None, 512)              2048      \n",
            " chNormalization)                                                \n",
            "                                                                 \n",
            " dropout_43 (Dropout)        (None, 512)               0         \n",
            "                                                                 \n",
            " dense_21 (Dense)            (None, 3)                 1539      \n",
            "                                                                 \n",
            "=================================================================\n",
            "Total params: 80,379,843\n",
            "Trainable params: 80,378,371\n",
            "Non-trainable params: 1,472\n",
            "_________________________________________________________________\n"
          ]
        }
      ]
    },
    {
      "cell_type": "code",
      "source": [
        "learning_rate_reduction = ReduceLROnPlateau(monitor=\"val_accuracy\", \n",
        "                                            patience=10, \n",
        "                                            verbose=1, \n",
        "                                            factor=0.5, \n",
        "                                            min_lr=0.00001)"
      ],
      "metadata": {
        "id": "PqSxe3tZFl_F"
      },
      "execution_count": 203,
      "outputs": []
    },
    {
      "cell_type": "code",
      "source": [
        "callbacks = [learning_rate_reduction]"
      ],
      "metadata": {
        "id": "fktyKJgrGJXw"
      },
      "execution_count": 204,
      "outputs": []
    },
    {
      "cell_type": "code",
      "source": [
        "history = model.fit_generator(\n",
        "    train_generator,\n",
        "    epochs=epochs,\n",
        "    validation_data=validation_generator,\n",
        "    validation_steps=total_validate//batch_size,\n",
        "    steps_per_epoch=total_train//batch_size,\n",
        "    callbacks=callbacks)"
      ],
      "metadata": {
        "colab": {
          "base_uri": "https://localhost:8080/"
        },
        "id": "q8Lt70p0GJVH",
        "outputId": "b475807d-b5a7-4a64-b31b-64ac32db7cba"
      },
      "execution_count": 205,
      "outputs": [
        {
          "output_type": "stream",
          "name": "stderr",
          "text": [
            "/usr/local/lib/python3.7/dist-packages/ipykernel_launcher.py:7: UserWarning: `Model.fit_generator` is deprecated and will be removed in a future version. Please use `Model.fit`, which supports generators.\n",
            "  import sys\n"
          ]
        },
        {
          "output_type": "stream",
          "name": "stdout",
          "text": [
            "Epoch 1/30\n",
            "96/96 [==============================] - 498s 5s/step - loss: 1.5133 - accuracy: 0.4699 - val_loss: 1.0057 - val_accuracy: 0.5375 - lr: 0.0010\n",
            "Epoch 2/30\n",
            "96/96 [==============================] - 492s 5s/step - loss: 1.1927 - accuracy: 0.5256 - val_loss: 1.1055 - val_accuracy: 0.3875 - lr: 0.0010\n",
            "Epoch 3/30\n",
            "96/96 [==============================] - 485s 5s/step - loss: 1.1303 - accuracy: 0.5315 - val_loss: 1.3510 - val_accuracy: 0.1937 - lr: 0.0010\n",
            "Epoch 4/30\n",
            "96/96 [==============================] - 490s 5s/step - loss: 0.9868 - accuracy: 0.5806 - val_loss: 2.0181 - val_accuracy: 0.2438 - lr: 0.0010\n",
            "Epoch 5/30\n",
            "96/96 [==============================] - 489s 5s/step - loss: 0.9511 - accuracy: 0.5917 - val_loss: 1.7108 - val_accuracy: 0.2125 - lr: 0.0010\n",
            "Epoch 6/30\n",
            "96/96 [==============================] - 483s 5s/step - loss: 0.9018 - accuracy: 0.6245 - val_loss: 2.9556 - val_accuracy: 0.2125 - lr: 0.0010\n",
            "Epoch 7/30\n",
            "96/96 [==============================] - 482s 5s/step - loss: 0.8053 - accuracy: 0.6619 - val_loss: 1.3407 - val_accuracy: 0.4062 - lr: 0.0010\n",
            "Epoch 8/30\n",
            "96/96 [==============================] - 489s 5s/step - loss: 0.7853 - accuracy: 0.6750 - val_loss: 1.0497 - val_accuracy: 0.5188 - lr: 0.0010\n",
            "Epoch 9/30\n",
            "96/96 [==============================] - 481s 5s/step - loss: 0.7677 - accuracy: 0.6737 - val_loss: 0.9054 - val_accuracy: 0.6062 - lr: 0.0010\n",
            "Epoch 10/30\n",
            "96/96 [==============================] - 482s 5s/step - loss: 0.7239 - accuracy: 0.7104 - val_loss: 1.0487 - val_accuracy: 0.5938 - lr: 0.0010\n",
            "Epoch 11/30\n",
            "96/96 [==============================] - 483s 5s/step - loss: 0.6907 - accuracy: 0.7090 - val_loss: 0.8224 - val_accuracy: 0.6687 - lr: 0.0010\n",
            "Epoch 12/30\n",
            "96/96 [==============================] - 487s 5s/step - loss: 0.7837 - accuracy: 0.6547 - val_loss: 1.9178 - val_accuracy: 0.4500 - lr: 0.0010\n",
            "Epoch 13/30\n",
            "96/96 [==============================] - 480s 5s/step - loss: 0.7576 - accuracy: 0.6802 - val_loss: 0.9696 - val_accuracy: 0.6187 - lr: 0.0010\n",
            "Epoch 14/30\n",
            "96/96 [==============================] - 487s 5s/step - loss: 0.7047 - accuracy: 0.7045 - val_loss: 1.1844 - val_accuracy: 0.5312 - lr: 0.0010\n",
            "Epoch 15/30\n",
            "96/96 [==============================] - 488s 5s/step - loss: 0.6759 - accuracy: 0.7064 - val_loss: 0.9834 - val_accuracy: 0.6000 - lr: 0.0010\n",
            "Epoch 16/30\n",
            "96/96 [==============================] - 487s 5s/step - loss: 0.6054 - accuracy: 0.7490 - val_loss: 0.7257 - val_accuracy: 0.7188 - lr: 0.0010\n",
            "Epoch 17/30\n",
            "96/96 [==============================] - 484s 5s/step - loss: 0.6067 - accuracy: 0.7523 - val_loss: 0.6969 - val_accuracy: 0.7437 - lr: 0.0010\n",
            "Epoch 18/30\n",
            "96/96 [==============================] - 488s 5s/step - loss: 0.6098 - accuracy: 0.7431 - val_loss: 0.7634 - val_accuracy: 0.6875 - lr: 0.0010\n",
            "Epoch 19/30\n",
            "96/96 [==============================] - 490s 5s/step - loss: 0.5229 - accuracy: 0.7811 - val_loss: 0.7344 - val_accuracy: 0.6938 - lr: 0.0010\n",
            "Epoch 20/30\n",
            "96/96 [==============================] - 488s 5s/step - loss: 0.5252 - accuracy: 0.7949 - val_loss: 0.8458 - val_accuracy: 0.6562 - lr: 0.0010\n",
            "Epoch 21/30\n",
            "96/96 [==============================] - 484s 5s/step - loss: 0.6151 - accuracy: 0.7405 - val_loss: 0.9558 - val_accuracy: 0.6875 - lr: 0.0010\n",
            "Epoch 22/30\n",
            "96/96 [==============================] - 486s 5s/step - loss: 0.6367 - accuracy: 0.7248 - val_loss: 2.5588 - val_accuracy: 0.5250 - lr: 0.0010\n",
            "Epoch 23/30\n",
            "96/96 [==============================] - 488s 5s/step - loss: 0.6028 - accuracy: 0.7562 - val_loss: 1.1012 - val_accuracy: 0.5750 - lr: 0.0010\n",
            "Epoch 24/30\n",
            "96/96 [==============================] - 491s 5s/step - loss: 0.6582 - accuracy: 0.7228 - val_loss: 0.7074 - val_accuracy: 0.7312 - lr: 0.0010\n",
            "Epoch 25/30\n",
            "96/96 [==============================] - 492s 5s/step - loss: 0.5847 - accuracy: 0.7706 - val_loss: 0.6730 - val_accuracy: 0.7250 - lr: 0.0010\n",
            "Epoch 26/30\n",
            "96/96 [==============================] - 486s 5s/step - loss: 0.5393 - accuracy: 0.7811 - val_loss: 0.8595 - val_accuracy: 0.6938 - lr: 0.0010\n",
            "Epoch 27/30\n",
            "96/96 [==============================] - ETA: 0s - loss: 0.6019 - accuracy: 0.7490\n",
            "Epoch 27: ReduceLROnPlateau reducing learning rate to 0.0005000000237487257.\n",
            "96/96 [==============================] - 497s 5s/step - loss: 0.6019 - accuracy: 0.7490 - val_loss: 0.9607 - val_accuracy: 0.6062 - lr: 0.0010\n",
            "Epoch 28/30\n",
            "96/96 [==============================] - 485s 5s/step - loss: 0.4919 - accuracy: 0.7988 - val_loss: 0.6802 - val_accuracy: 0.7375 - lr: 5.0000e-04\n",
            "Epoch 29/30\n",
            "96/96 [==============================] - 479s 5s/step - loss: 0.4775 - accuracy: 0.8172 - val_loss: 0.6848 - val_accuracy: 0.7188 - lr: 5.0000e-04\n",
            "Epoch 30/30\n",
            "96/96 [==============================] - 478s 5s/step - loss: 0.4223 - accuracy: 0.8322 - val_loss: 0.6732 - val_accuracy: 0.7250 - lr: 5.0000e-04\n"
          ]
        }
      ]
    },
    {
      "cell_type": "markdown",
      "source": [
        "Plotting the model's results"
      ],
      "metadata": {
        "id": "vBHH5asPFMa5"
      }
    },
    {
      "cell_type": "code",
      "source": [
        "acc = history.history[\"accuracy\"]\n",
        "val_acc = history.history[\"val_accuracy\"]\n",
        "\n",
        "loss = history.history[\"loss\"]\n",
        "val_loss = history.history[\"val_loss\"]\n",
        "\n",
        "epochs_range = range(epochs)\n",
        "\n",
        "plt.figure(figsize=(8, 8))\n",
        "plt.subplot(1, 2, 1)\n",
        "plt.plot(epochs_range, acc, label=\"Training Accuracy\")\n",
        "plt.plot(epochs_range, val_acc, label=\"Validation Accuracy\")\n",
        "plt.legend(loc=\"lower right\")\n",
        "plt.title(\"Training and Validation Accuracy\")\n",
        "\n",
        "plt.subplot(1, 2, 2)\n",
        "plt.plot(epochs_range, loss, label=\"Training Loss\")\n",
        "plt.plot(epochs_range, val_loss, label=\"Validation Loss\")\n",
        "plt.legend(loc=\"upper right\")\n",
        "plt.title(\"Training and Validation Loss\")\n",
        "plt.show()\n",
        " \n",
        "print(\"Training Accuracy:\"), print(history.history[\"accuracy\"][-1])\n",
        "print(\"Validation Accuracy:\"), print(history.history[\"val_accuracy\"][-1])"
      ],
      "metadata": {
        "id": "6yw4BuOTGJSy",
        "colab": {
          "base_uri": "https://localhost:8080/",
          "height": 586
        },
        "outputId": "3c09e081-50c2-4db2-99a1-891f9b55eafb"
      },
      "execution_count": 206,
      "outputs": [
        {
          "output_type": "display_data",
          "data": {
            "text/plain": [
              "<Figure size 576x576 with 2 Axes>"
            ],
            "image/png": "[encoded data removed]"
          },
          "metadata": {
            "needs_background": "light"
          }
        },
        {
          "output_type": "stream",
          "name": "stdout",
          "text": [
            "Training Accuracy:\n",
            "0.8322411775588989\n",
            "Validation Accuracy:\n",
            "0.7250000238418579\n"
          ]
        },
        {
          "output_type": "execute_result",
          "data": {
            "text/plain": [
              "(None, None)"
            ]
          },
          "metadata": {},
          "execution_count": 206
        }
      ]
    },
    {
      "cell_type": "markdown",
      "source": [
        "Confusion Matrix"
      ],
      "metadata": {
        "id": "d4C5SpK0FI-8"
      }
    },
    {
      "cell_type": "code",
      "source": [
        "def cm_cr(test_gen, model):\n",
        "    preds=model.predict(test_gen)    \n",
        "    labels=test_gen.labels\n",
        "    classes=list(test_gen.class_indices.keys()) \n",
        "    pred_list=[ ] \n",
        "    true_list=[]\n",
        "    for i, p in enumerate(preds):\n",
        "        index=np.argmax(p)\n",
        "        pred_list.append(classes[index])\n",
        "        true_list.append(classes[labels[i]])\n",
        "    y_pred=np.array(pred_list)\n",
        "    y_true=np.array(true_list)\n",
        "    clr = metrics.classification_report(y_true, y_pred, target_names=classes)\n",
        "    print(\"Classification Report:\\n----------------------\\n\", clr)\n",
        "    cm = metrics.confusion_matrix(y_true, y_pred )        \n",
        "    length=len(classes)\n",
        "    if length<8:\n",
        "        fig_width=8\n",
        "        fig_height=8\n",
        "    else:\n",
        "        fig_width= int(length * .5)\n",
        "        fig_height= int(length * .5)\n",
        "    plt.figure(figsize=(fig_width, fig_height))\n",
        "    sns.heatmap(cm, annot=True, vmin=0, fmt=\"g\", cmap=\"Blues\", cbar=False)       \n",
        "    plt.xticks(np.arange(length)+.5, classes, rotation= 90, fontsize=16)\n",
        "    plt.yticks(np.arange(length)+.5, classes, rotation=0, fontsize=16)\n",
        "    plt.xlabel(\"Predicted\")\n",
        "    plt.ylabel(\"Actual\")\n",
        "    plt.title(\"Confusion Matrix\")\n",
        "    plt.show()"
      ],
      "metadata": {
        "id": "5zQ8aK9yVirF"
      },
      "execution_count": 211,
      "outputs": []
    },
    {
      "cell_type": "code",
      "source": [
        "cm_cr(train_generator, model)"
      ],
      "metadata": {
        "colab": {
          "base_uri": "https://localhost:8080/",
          "height": 739
        },
        "id": "hTfxgjxVMAcC",
        "outputId": "b4746adc-b72a-45b9-e75f-1f1e1d009077"
      },
      "execution_count": 218,
      "outputs": [
        {
          "output_type": "stream",
          "name": "stdout",
          "text": [
            "97/97 [==============================] - 129s 1s/step\n",
            "Classification Report:\n",
            "----------------------\n",
            "               precision    recall  f1-score   support\n",
            "\n",
            "           0       0.47      0.44      0.45       768\n",
            "           1       0.13      0.15      0.14       179\n",
            "           2       0.36      0.38      0.37       595\n",
            "\n",
            "    accuracy                           0.38      1542\n",
            "   macro avg       0.32      0.32      0.32      1542\n",
            "weighted avg       0.39      0.38      0.38      1542\n",
            "\n"
          ]
        },
        {
          "output_type": "display_data",
          "data": {
            "text/plain": [
              "<Figure size 576x576 with 1 Axes>"
            ],
            "image/png": "[encoded data removed]"
          },
          "metadata": {
            "needs_background": "light"
          }
        }
      ]
    },
    {
      "cell_type": "code",
      "source": [
        "cm_cr(validation_generator, model)"
      ],
      "metadata": {
        "id": "gyfUHOkWVidR",
        "colab": {
          "base_uri": "https://localhost:8080/",
          "height": 739
        },
        "outputId": "a2b62d05-184d-4f67-aed3-09a35ca6d6cc"
      },
      "execution_count": 216,
      "outputs": [
        {
          "output_type": "stream",
          "name": "stdout",
          "text": [
            "11/11 [==============================] - 12s 1s/step\n",
            "Classification Report:\n",
            "----------------------\n",
            "               precision    recall  f1-score   support\n",
            "\n",
            "           0       0.55      0.59      0.57        92\n",
            "           1       0.14      0.06      0.08        17\n",
            "           2       0.36      0.38      0.37        63\n",
            "\n",
            "    accuracy                           0.46       172\n",
            "   macro avg       0.35      0.34      0.34       172\n",
            "weighted avg       0.44      0.46      0.45       172\n",
            "\n"
          ]
        },
        {
          "output_type": "display_data",
          "data": {
            "text/plain": [
              "<Figure size 576x576 with 1 Axes>"
            ],
            "image/png": "[encoded data removed]"
          },
          "metadata": {
            "needs_background": "light"
          }
        }
      ]
    },
    {
      "cell_type": "code",
      "source": [
        "preds = model.predict(test_generator)   \n",
        "preds"
      ],
      "metadata": {
        "id": "ZZAS6FBi4h_w",
        "colab": {
          "base_uri": "https://localhost:8080/"
        },
        "outputId": "980d5d46-9c40-48fb-977b-d9d7e2235479"
      },
      "execution_count": 217,
      "outputs": [
        {
          "output_type": "stream",
          "name": "stdout",
          "text": [
            "40/40 [==============================] - 141s 4s/step\n"
          ]
        },
        {
          "output_type": "execute_result",
          "data": {
            "text/plain": [
              "array([[4.5460171e-01, 4.8289509e-03, 5.4056937e-01],\n",
              "       [3.2891452e-02, 4.0279132e-01, 5.6431729e-01],\n",
              "       [2.1838257e-01, 7.8040518e-02, 7.0357698e-01],\n",
              "       ...,\n",
              "       [4.0150668e-02, 3.8054147e-01, 5.7930785e-01],\n",
              "       [9.9971944e-01, 3.0894284e-05, 2.4966078e-04],\n",
              "       [5.7533455e-01, 1.0288760e-01, 3.2177788e-01]], dtype=float32)"
            ]
          },
          "metadata": {},
          "execution_count": 217
        }
      ]
    },
    {
      "cell_type": "code",
      "source": [
        "preds = preds.argmax(axis=1)"
      ],
      "metadata": {
        "id": "Rr6uAnHLF3MB"
      },
      "execution_count": 219,
      "outputs": []
    },
    {
      "cell_type": "code",
      "source": [
        "preds"
      ],
      "metadata": {
        "colab": {
          "base_uri": "https://localhost:8080/"
        },
        "id": "Akk8FkY_MOWL",
        "outputId": "f08aca72-95e5-43da-953f-daf1148fcf2d"
      },
      "execution_count": 220,
      "outputs": [
        {
          "output_type": "execute_result",
          "data": {
            "text/plain": [
              "array([2, 2, 2, 2, 2, 2, 0, 2, 2, 2, 2, 2, 2, 0, 2, 0, 2, 0, 0, 0, 2, 2,\n",
              "       0, 0, 0, 0, 2, 0, 2, 0, 1, 0, 1, 0, 0, 0, 0, 2, 2, 2, 2, 2, 2, 0,\n",
              "       2, 0, 2, 0, 0, 0, 0, 1, 0, 0, 2, 2, 2, 0, 0, 0, 0, 0, 0, 2, 0, 0,\n",
              "       2, 0, 0, 2, 2, 2, 0, 0, 2, 0, 2, 0, 0, 0, 0, 2, 2, 0, 2, 0, 2, 2,\n",
              "       2, 0, 1, 0, 2, 0, 2, 0, 0, 0, 0, 0, 2, 1, 0, 2, 0, 0, 1, 2, 2, 2,\n",
              "       0, 2, 0, 0, 0, 0, 0, 2, 0, 2, 0, 2, 0, 2, 0, 0, 2, 2, 2, 2, 2, 0,\n",
              "       0, 1, 0, 2, 2, 0, 0, 2, 2, 2, 0, 0, 2, 0, 1, 0, 0, 0, 0, 2, 2, 2,\n",
              "       0, 2, 1, 2, 2, 0, 2, 2, 2, 0, 2, 1, 0, 0, 2, 1, 2, 0, 0, 2, 0, 2,\n",
              "       2, 0, 2, 0, 1, 0, 2, 2, 2, 1, 0, 0, 0, 0, 0, 2, 0, 0, 0, 2, 2, 0,\n",
              "       0, 2, 1, 1, 0, 2, 0, 2, 0, 0, 2, 0, 2, 0, 0, 2, 2, 0, 2, 0, 0, 0,\n",
              "       0, 0, 2, 0, 2, 2, 0, 2, 1, 2, 0, 2, 2, 0, 2, 2, 1, 0, 0, 2, 0, 1,\n",
              "       2, 0, 0, 0, 2, 0, 0, 0, 0, 2, 2, 0, 0, 0, 1, 2, 0, 2, 2, 2, 2, 2,\n",
              "       0, 2, 0, 0, 2, 0, 0, 0, 2, 2, 0, 0, 0, 0, 0, 0, 0, 0, 0, 0, 2, 1,\n",
              "       2, 2, 0, 0, 2, 2, 2, 2, 0, 2, 0, 2, 0, 2, 0, 0, 0, 1, 0, 1, 0, 2,\n",
              "       0, 0, 2, 0, 0, 0, 2, 0, 1, 0, 2, 2, 2, 2, 2, 2, 0, 2, 2, 0, 0, 1,\n",
              "       0, 0, 0, 2, 2, 0, 2, 0, 0, 0, 0, 0, 1, 2, 0, 0, 1, 2, 2, 1, 0, 1,\n",
              "       2, 2, 1, 2, 0, 1, 2, 0, 2, 2, 0, 2, 0, 2, 0, 0, 0, 0, 0, 0, 0, 0,\n",
              "       0, 2, 0, 2, 0, 0, 0, 1, 0, 2, 0, 0, 0, 0, 0, 0, 1, 0, 0, 2, 0, 1,\n",
              "       0, 0, 0, 0, 0, 1, 0, 0, 2, 2, 2, 2, 0, 2, 1, 2, 1, 0, 2, 0, 0, 2,\n",
              "       0, 2, 1, 2, 0, 0, 2, 2, 2, 0, 2, 2, 0, 0, 0, 0, 2, 0, 0, 2, 0, 0,\n",
              "       0, 2, 0, 2, 0, 2, 2, 0, 0, 0, 2, 0, 0, 2, 2, 2, 0, 2, 2, 2, 0, 0,\n",
              "       1, 2, 1, 0, 0, 2, 0, 2, 0, 0, 0, 0, 0, 0, 2, 0, 2, 2, 2, 0, 2, 2,\n",
              "       0, 0, 2, 2, 2, 2, 0, 0, 2, 2, 2, 0, 0, 0, 0, 0, 2, 0, 0, 0, 0, 0,\n",
              "       2, 2, 0, 2, 2, 0, 0, 2, 0, 2, 1, 2, 0, 0, 0, 2, 1, 0, 0, 0, 2, 2,\n",
              "       2, 0, 2, 0, 2, 0, 0, 2, 2, 2, 2, 0, 1, 0, 0, 0, 2, 0, 0, 2, 0, 0,\n",
              "       1, 0, 2, 2, 0, 2, 0, 2, 0, 0, 0, 2, 1, 2, 1, 2, 2, 2, 2, 2, 1, 0,\n",
              "       2, 1, 0, 2, 2, 0, 2, 0, 0, 2, 2, 2, 0, 2, 2, 0, 0, 0, 2, 0, 0, 0,\n",
              "       2, 0, 2, 0, 2, 2, 0, 2, 0, 0, 0, 2, 0, 2, 0, 2, 0, 0, 0, 2, 0, 2,\n",
              "       1, 0, 1, 2, 0, 0, 0, 0, 2, 2, 1, 0, 2, 0, 2, 0, 2, 0, 0])"
            ]
          },
          "metadata": {},
          "execution_count": 220
        }
      ]
    },
    {
      "cell_type": "markdown",
      "source": [
        "Submission Results"
      ],
      "metadata": {
        "id": "DYh9BejSUY0p"
      }
    },
    {
      "cell_type": "code",
      "source": [
        "test[\"target\"] = preds.tolist()\n",
        "# predictions = test[\"target\"].apply(',{}'.format)"
      ],
      "metadata": {
        "id": "zmSpD5ntHOXy"
      },
      "execution_count": 249,
      "outputs": []
    },
    {
      "cell_type": "code",
      "source": [
        "test[\"target\"] = test[\"target\"].astype(\"str\")"
      ],
      "metadata": {
        "id": "0x_u0DMfQriN"
      },
      "execution_count": 251,
      "outputs": []
    },
    {
      "cell_type": "code",
      "source": [
        "test.info()"
      ],
      "metadata": {
        "colab": {
          "base_uri": "https://localhost:8080/"
        },
        "id": "hocFUii2Q2o2",
        "outputId": "2c54add6-c282-42ec-8f3a-b45e9fba9cf9"
      },
      "execution_count": 252,
      "outputs": [
        {
          "output_type": "stream",
          "name": "stdout",
          "text": [
            "<class 'pandas.core.frame.DataFrame'>\n",
            "RangeIndex: 635 entries, 0 to 634\n",
            "Data columns (total 5 columns):\n",
            " #   Column        Non-Null Count  Dtype  \n",
            "---  ------        --------------  -----  \n",
            " 0   latitude      635 non-null    float64\n",
            " 1   longitude     635 non-null    float64\n",
            " 2   year          635 non-null    int64  \n",
            " 3   example_path  635 non-null    object \n",
            " 4   target        635 non-null    object \n",
            "dtypes: float64(2), int64(1), object(2)\n",
            "memory usage: 24.9+ KB\n"
          ]
        }
      ]
    },
    {
      "cell_type": "code",
      "source": [
        "#labels = (train_generator.class_indices)\n",
        "#labels = dict((v,k) for k,v in labels.items())\n",
        "#preds_labels = [labels[k] for k in preds]"
      ],
      "metadata": {
        "id": "mooVN__OGJQS"
      },
      "execution_count": 237,
      "outputs": []
    },
    {
      "cell_type": "code",
      "source": [
        "#df['Test'] = df['Test'].apply('=\"{}\"'.format)\n",
        "#df.to_csv('withLeadingZeros'+'.csv', index = False)"
      ],
      "metadata": {
        "id": "68kf-UqHPn-G"
      },
      "execution_count": null,
      "outputs": []
    },
    {
      "cell_type": "code",
      "source": [
        "#example_path=test_generator.example_path\n",
        "predictions=pd.DataFrame({\"target\":preds})\n",
        "predictions.to_csv(\"predictions.csv\", sep=\",\" ,index = False)\n",
        "files.download(\"predictions.csv\")"
      ],
      "metadata": {
        "id": "tL9p3PcUGJNs",
        "colab": {
          "base_uri": "https://localhost:8080/",
          "height": 17
        },
        "outputId": "aa44f004-aab0-4249-9dec-c38a787ecd35"
      },
      "execution_count": 257,
      "outputs": [
        {
          "output_type": "display_data",
          "data": {
            "text/plain": [
              "<IPython.core.display.Javascript object>"
            ],
            "application/javascript": [
              "\n",
              "    async function download(id, filename, size) {\n",
              "      if (!google.colab.kernel.accessAllowed) {\n",
              "        return;\n",
              "      }\n",
              "      const div = document.createElement('div');\n",
              "      const label = document.createElement('label');\n",
              "      label.textContent = `Downloading \"${filename}\": `;\n",
              "      div.appendChild(label);\n",
              "      const progress = document.createElement('progress');\n",
              "      progress.max = size;\n",
              "      div.appendChild(progress);\n",
              "      document.body.appendChild(div);\n",
              "\n",
              "      const buffers = [];\n",
              "      let downloaded = 0;\n",
              "\n",
              "      const channel = await google.colab.kernel.comms.open(id);\n",
              "      // Send a message to notify the kernel that we're ready.\n",
              "      channel.send({})\n",
              "\n",
              "      for await (const message of channel.messages) {\n",
              "        // Send a message to notify the kernel that we're ready.\n",
              "        channel.send({})\n",
              "        if (message.buffers) {\n",
              "          for (const buffer of message.buffers) {\n",
              "            buffers.push(buffer);\n",
              "            downloaded += buffer.byteLength;\n",
              "            progress.value = downloaded;\n",
              "          }\n",
              "        }\n",
              "      }\n",
              "      const blob = new Blob(buffers, {type: 'application/binary'});\n",
              "      const a = document.createElement('a');\n",
              "      a.href = window.URL.createObjectURL(blob);\n",
              "      a.download = filename;\n",
              "      div.appendChild(a);\n",
              "      a.click();\n",
              "      div.remove();\n",
              "    }\n",
              "  "
            ]
          },
          "metadata": {}
        },
        {
          "output_type": "display_data",
          "data": {
            "text/plain": [
              "<IPython.core.display.Javascript object>"
            ],
            "application/javascript": [
              "download(\"download_25619346-dd28-40a8-9dc3-7e4a8c97b1dc\", \"predictions.csv\", 1277)"
            ]
          },
          "metadata": {}
        }
      ]
    },
    {
      "cell_type": "code",
      "source": [
        "predictions_json = pd.read_csv(\"predictions.csv\")\n",
        "predictions_json.to_json(\"predictions.json\")\n",
        "files.download(\"predictions.json\")"
      ],
      "metadata": {
        "id": "mDg5wJdDGJKL",
        "colab": {
          "base_uri": "https://localhost:8080/",
          "height": 17
        },
        "outputId": "bdb413b4-03ee-4295-d5da-b931b50a3936"
      },
      "execution_count": 258,
      "outputs": [
        {
          "output_type": "display_data",
          "data": {
            "text/plain": [
              "<IPython.core.display.Javascript object>"
            ],
            "application/javascript": [
              "\n",
              "    async function download(id, filename, size) {\n",
              "      if (!google.colab.kernel.accessAllowed) {\n",
              "        return;\n",
              "      }\n",
              "      const div = document.createElement('div');\n",
              "      const label = document.createElement('label');\n",
              "      label.textContent = `Downloading \"${filename}\": `;\n",
              "      div.appendChild(label);\n",
              "      const progress = document.createElement('progress');\n",
              "      progress.max = size;\n",
              "      div.appendChild(progress);\n",
              "      document.body.appendChild(div);\n",
              "\n",
              "      const buffers = [];\n",
              "      let downloaded = 0;\n",
              "\n",
              "      const channel = await google.colab.kernel.comms.open(id);\n",
              "      // Send a message to notify the kernel that we're ready.\n",
              "      channel.send({})\n",
              "\n",
              "      for await (const message of channel.messages) {\n",
              "        // Send a message to notify the kernel that we're ready.\n",
              "        channel.send({})\n",
              "        if (message.buffers) {\n",
              "          for (const buffer of message.buffers) {\n",
              "            buffers.push(buffer);\n",
              "            downloaded += buffer.byteLength;\n",
              "            progress.value = downloaded;\n",
              "          }\n",
              "        }\n",
              "      }\n",
              "      const blob = new Blob(buffers, {type: 'application/binary'});\n",
              "      const a = document.createElement('a');\n",
              "      a.href = window.URL.createObjectURL(blob);\n",
              "      a.download = filename;\n",
              "      div.appendChild(a);\n",
              "      a.click();\n",
              "      div.remove();\n",
              "    }\n",
              "  "
            ]
          },
          "metadata": {}
        },
        {
          "output_type": "display_data",
          "data": {
            "text/plain": [
              "<IPython.core.display.Javascript object>"
            ],
            "application/javascript": [
              "download(\"download_5ed43824-3042-438d-a0cd-30ef65e5629e\", \"predictions.json\", 4982)"
            ]
          },
          "metadata": {}
        }
      ]
    }
  ]
}